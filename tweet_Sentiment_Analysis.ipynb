{
  "cells": [
    {
      "cell_type": "markdown",
      "id": "7c1e7f3a-f298-4f95-b407-39fec9aef656",
      "metadata": {
        "id": "7c1e7f3a-f298-4f95-b407-39fec9aef656"
      },
      "source": [
        "# Problem Statement: Sentiment Analysis Using TF-IDF Vectors\n",
        "__Objective:__\n",
        "Design and implement a machine learning model to perform sentiment analysis on a given\n",
        "dataset containing textual data and corresponding sentiment labels. The analysis should use\n",
        "TF-IDF (Term Frequency-Inverse Document Frequency) vectors to transform the text into\n",
        "numerical features and classify the sentiments effectively.\n",
        "Dataset Description for Sentiment Analysis Project\n",
        "\n",
        "__Content:__\n",
        "The dataset is stored in a CSV file and includes six fields:\n",
        "\n",
        "__1. Polarity (Column 0):__\n",
        "○ Sentiment label for the tweet:\n",
        "■ 0: Negative sentiment\n",
        "■ 2: Neutral sentiment\n",
        "■ 4: Positive sentiment\n",
        "\n",
        "__2. Tweet ID (Column 1):__\n",
        "○ A unique identifier for each tweet.\n",
        "\n",
        "__3. Date (Column 2):__\n",
        "○ The timestamp of when the tweet was posted, in the format Day Month Date\n",
        "HH:MM:SS UTC Year (e.g., Sat May 16 23:58:44 UTC 2009).\n",
        "\n",
        "__4. Query (Column 3):__\n",
        "○ The search query used to retrieve the tweet. If no query was used, the value is\n",
        "NO_QUERY.\n",
        "\n",
        "__5. User (Column 4):__\n",
        "○ The username of the account that posted the tweet (e.g., robotickilldozr).\n",
        "\n",
        "__6. Text (Column 5):__\n",
        "○ The content of the tweet, consisting of raw text after emoticons have been removed\n",
        "(e.g., Lyx is cool)."
      ]
    },
    {
      "cell_type": "markdown",
      "id": "923bf88b-0c57-481c-8fbc-e9dc5f421ef3",
      "metadata": {
        "id": "923bf88b-0c57-481c-8fbc-e9dc5f421ef3"
      },
      "source": [
        "# Step 1 :- import useful libraries and data set"
      ]
    },
    {
      "cell_type": "code",
      "execution_count": 1,
      "id": "8cacf259-f232-4e8d-a81b-895b9ee3280a",
      "metadata": {
        "id": "8cacf259-f232-4e8d-a81b-895b9ee3280a"
      },
      "outputs": [],
      "source": [
        "import numpy as np #basic\n",
        "import pandas as pd #to store and manipulate dataset\n",
        "import seaborn as sns  # to visulaize dataset\n",
        "import matplotlib.pyplot as plt #same\n",
        "import nltk                     # for preprocessing text\n",
        "import spacy                    # for preprocessing text , advanced library\n",
        "from sklearn.feature_extraction.text import TfidfVectorizer  #for vectorization\n",
        "from sklearn.metrics import accuracy_score,classification_report  # for analyzing our model\n",
        "from sklearn.naive_bayes import MultinomialNB\n",
        "from sklearn.model_selection import train_test_split"
      ]
    },
    {
      "cell_type": "code",
      "source": [
        "from google.colab import drive\n",
        "drive.mount('/content/drive')"
      ],
      "metadata": {
        "colab": {
          "base_uri": "https://localhost:8080/"
        },
        "id": "KzA43WkRk-Ps",
        "outputId": "16e1083f-f19a-4e0e-e6a5-7c587e3bf5e3"
      },
      "id": "KzA43WkRk-Ps",
      "execution_count": 2,
      "outputs": [
        {
          "output_type": "stream",
          "name": "stdout",
          "text": [
            "Mounted at /content/drive\n"
          ]
        }
      ]
    },
    {
      "cell_type": "code",
      "execution_count": 3,
      "id": "10cc20a2-573f-4802-a33c-f72372094fcc",
      "metadata": {
        "id": "10cc20a2-573f-4802-a33c-f72372094fcc"
      },
      "outputs": [],
      "source": [
        "data=pd.read_csv('/content/drive/My Drive/Colab Notebooks/datasets/NLP_Assignement_1/training.1600000.processed.noemoticon.csv',index_col='id of the tweet',encoding='ISO-8859-1')\n"
      ]
    },
    {
      "cell_type": "code",
      "execution_count": 9,
      "id": "2db42216-ac51-4d41-98e1-a1dbfc1b949b",
      "metadata": {
        "colab": {
          "base_uri": "https://localhost:8080/"
        },
        "id": "2db42216-ac51-4d41-98e1-a1dbfc1b949b",
        "outputId": "c6ecc775-7397-49ee-ab8a-1162d0a7cd2a"
      },
      "outputs": [
        {
          "output_type": "stream",
          "name": "stdout",
          "text": [
            "<class 'pandas.core.frame.DataFrame'>\n",
            "Index: 1048572 entries, 1467810672 to 1960186607\n",
            "Data columns (total 5 columns):\n",
            " #   Column              Non-Null Count    Dtype \n",
            "---  ------              --------------    ----- \n",
            " 0   polarity of tweet   1048572 non-null  int64 \n",
            " 1   date of the tweet   1048572 non-null  object\n",
            " 2   query               1048572 non-null  object\n",
            " 3   user                1048572 non-null  object\n",
            " 4   text of the tweet   1048572 non-null  object\n",
            "dtypes: int64(1), object(4)\n",
            "memory usage: 48.0+ MB\n"
          ]
        }
      ],
      "source": [
        "data.info()"
      ]
    },
    {
      "cell_type": "markdown",
      "id": "59a6ab66-e970-4fcb-84af-8aacad532d85",
      "metadata": {
        "id": "59a6ab66-e970-4fcb-84af-8aacad532d85"
      },
      "source": [
        "__Label__ :- 'polarity of tweet'\n",
        "__feature__:- 'text of the tweet'"
      ]
    },
    {
      "cell_type": "code",
      "execution_count": 10,
      "id": "ce9f06a3-0853-4512-a1f4-9673536354f3",
      "metadata": {
        "colab": {
          "base_uri": "https://localhost:8080/",
          "height": 238
        },
        "id": "ce9f06a3-0853-4512-a1f4-9673536354f3",
        "outputId": "19403fba-a577-490b-924f-ac364b0e521c"
      },
      "outputs": [
        {
          "output_type": "execute_result",
          "data": {
            "text/plain": [
              "                 polarity of tweet              date of the tweet     query  \\\n",
              "id of the tweet                                                               \n",
              "1467810672                        0  Mon Apr 06 22:19:49 PDT 2009  NO_QUERY   \n",
              "1467810917                        0  Mon Apr 06 22:19:53 PDT 2009  NO_QUERY   \n",
              "1467811184                        0  Mon Apr 06 22:19:57 PDT 2009  NO_QUERY   \n",
              "1467811193                        0  Mon Apr 06 22:19:57 PDT 2009  NO_QUERY   \n",
              "1467811372                        0  Mon Apr 06 22:20:00 PDT 2009  NO_QUERY   \n",
              "\n",
              "                          user  \\\n",
              "id of the tweet                  \n",
              "1467810672       scotthamilton   \n",
              "1467810917            mattycus   \n",
              "1467811184             ElleCTF   \n",
              "1467811193              Karoli   \n",
              "1467811372            joy_wolf   \n",
              "\n",
              "                                                text of the tweet   \n",
              "id of the tweet                                                     \n",
              "1467810672       is upset that he can't update his Facebook by ...  \n",
              "1467810917       @Kenichan I dived many times for the ball. Man...  \n",
              "1467811184         my whole body feels itchy and like its on fire   \n",
              "1467811193       @nationwideclass no, it's not behaving at all....  \n",
              "1467811372                           @Kwesidei not the whole crew   "
            ],
            "text/html": [
              "\n",
              "  <div id=\"df-48e1aa73-e1dc-4bc9-a3aa-3bb19e00cc87\" class=\"colab-df-container\">\n",
              "    <div>\n",
              "<style scoped>\n",
              "    .dataframe tbody tr th:only-of-type {\n",
              "        vertical-align: middle;\n",
              "    }\n",
              "\n",
              "    .dataframe tbody tr th {\n",
              "        vertical-align: top;\n",
              "    }\n",
              "\n",
              "    .dataframe thead th {\n",
              "        text-align: right;\n",
              "    }\n",
              "</style>\n",
              "<table border=\"1\" class=\"dataframe\">\n",
              "  <thead>\n",
              "    <tr style=\"text-align: right;\">\n",
              "      <th></th>\n",
              "      <th>polarity of tweet</th>\n",
              "      <th>date of the tweet</th>\n",
              "      <th>query</th>\n",
              "      <th>user</th>\n",
              "      <th>text of the tweet</th>\n",
              "    </tr>\n",
              "    <tr>\n",
              "      <th>id of the tweet</th>\n",
              "      <th></th>\n",
              "      <th></th>\n",
              "      <th></th>\n",
              "      <th></th>\n",
              "      <th></th>\n",
              "    </tr>\n",
              "  </thead>\n",
              "  <tbody>\n",
              "    <tr>\n",
              "      <th>1467810672</th>\n",
              "      <td>0</td>\n",
              "      <td>Mon Apr 06 22:19:49 PDT 2009</td>\n",
              "      <td>NO_QUERY</td>\n",
              "      <td>scotthamilton</td>\n",
              "      <td>is upset that he can't update his Facebook by ...</td>\n",
              "    </tr>\n",
              "    <tr>\n",
              "      <th>1467810917</th>\n",
              "      <td>0</td>\n",
              "      <td>Mon Apr 06 22:19:53 PDT 2009</td>\n",
              "      <td>NO_QUERY</td>\n",
              "      <td>mattycus</td>\n",
              "      <td>@Kenichan I dived many times for the ball. Man...</td>\n",
              "    </tr>\n",
              "    <tr>\n",
              "      <th>1467811184</th>\n",
              "      <td>0</td>\n",
              "      <td>Mon Apr 06 22:19:57 PDT 2009</td>\n",
              "      <td>NO_QUERY</td>\n",
              "      <td>ElleCTF</td>\n",
              "      <td>my whole body feels itchy and like its on fire</td>\n",
              "    </tr>\n",
              "    <tr>\n",
              "      <th>1467811193</th>\n",
              "      <td>0</td>\n",
              "      <td>Mon Apr 06 22:19:57 PDT 2009</td>\n",
              "      <td>NO_QUERY</td>\n",
              "      <td>Karoli</td>\n",
              "      <td>@nationwideclass no, it's not behaving at all....</td>\n",
              "    </tr>\n",
              "    <tr>\n",
              "      <th>1467811372</th>\n",
              "      <td>0</td>\n",
              "      <td>Mon Apr 06 22:20:00 PDT 2009</td>\n",
              "      <td>NO_QUERY</td>\n",
              "      <td>joy_wolf</td>\n",
              "      <td>@Kwesidei not the whole crew</td>\n",
              "    </tr>\n",
              "  </tbody>\n",
              "</table>\n",
              "</div>\n",
              "    <div class=\"colab-df-buttons\">\n",
              "\n",
              "  <div class=\"colab-df-container\">\n",
              "    <button class=\"colab-df-convert\" onclick=\"convertToInteractive('df-48e1aa73-e1dc-4bc9-a3aa-3bb19e00cc87')\"\n",
              "            title=\"Convert this dataframe to an interactive table.\"\n",
              "            style=\"display:none;\">\n",
              "\n",
              "  <svg xmlns=\"http://www.w3.org/2000/svg\" height=\"24px\" viewBox=\"0 -960 960 960\">\n",
              "    <path d=\"M120-120v-720h720v720H120Zm60-500h600v-160H180v160Zm220 220h160v-160H400v160Zm0 220h160v-160H400v160ZM180-400h160v-160H180v160Zm440 0h160v-160H620v160ZM180-180h160v-160H180v160Zm440 0h160v-160H620v160Z\"/>\n",
              "  </svg>\n",
              "    </button>\n",
              "\n",
              "  <style>\n",
              "    .colab-df-container {\n",
              "      display:flex;\n",
              "      gap: 12px;\n",
              "    }\n",
              "\n",
              "    .colab-df-convert {\n",
              "      background-color: #E8F0FE;\n",
              "      border: none;\n",
              "      border-radius: 50%;\n",
              "      cursor: pointer;\n",
              "      display: none;\n",
              "      fill: #1967D2;\n",
              "      height: 32px;\n",
              "      padding: 0 0 0 0;\n",
              "      width: 32px;\n",
              "    }\n",
              "\n",
              "    .colab-df-convert:hover {\n",
              "      background-color: #E2EBFA;\n",
              "      box-shadow: 0px 1px 2px rgba(60, 64, 67, 0.3), 0px 1px 3px 1px rgba(60, 64, 67, 0.15);\n",
              "      fill: #174EA6;\n",
              "    }\n",
              "\n",
              "    .colab-df-buttons div {\n",
              "      margin-bottom: 4px;\n",
              "    }\n",
              "\n",
              "    [theme=dark] .colab-df-convert {\n",
              "      background-color: #3B4455;\n",
              "      fill: #D2E3FC;\n",
              "    }\n",
              "\n",
              "    [theme=dark] .colab-df-convert:hover {\n",
              "      background-color: #434B5C;\n",
              "      box-shadow: 0px 1px 3px 1px rgba(0, 0, 0, 0.15);\n",
              "      filter: drop-shadow(0px 1px 2px rgba(0, 0, 0, 0.3));\n",
              "      fill: #FFFFFF;\n",
              "    }\n",
              "  </style>\n",
              "\n",
              "    <script>\n",
              "      const buttonEl =\n",
              "        document.querySelector('#df-48e1aa73-e1dc-4bc9-a3aa-3bb19e00cc87 button.colab-df-convert');\n",
              "      buttonEl.style.display =\n",
              "        google.colab.kernel.accessAllowed ? 'block' : 'none';\n",
              "\n",
              "      async function convertToInteractive(key) {\n",
              "        const element = document.querySelector('#df-48e1aa73-e1dc-4bc9-a3aa-3bb19e00cc87');\n",
              "        const dataTable =\n",
              "          await google.colab.kernel.invokeFunction('convertToInteractive',\n",
              "                                                    [key], {});\n",
              "        if (!dataTable) return;\n",
              "\n",
              "        const docLinkHtml = 'Like what you see? Visit the ' +\n",
              "          '<a target=\"_blank\" href=https://colab.research.google.com/notebooks/data_table.ipynb>data table notebook</a>'\n",
              "          + ' to learn more about interactive tables.';\n",
              "        element.innerHTML = '';\n",
              "        dataTable['output_type'] = 'display_data';\n",
              "        await google.colab.output.renderOutput(dataTable, element);\n",
              "        const docLink = document.createElement('div');\n",
              "        docLink.innerHTML = docLinkHtml;\n",
              "        element.appendChild(docLink);\n",
              "      }\n",
              "    </script>\n",
              "  </div>\n",
              "\n",
              "\n",
              "<div id=\"df-fc2f0d8f-1ad7-4a47-973c-cfade7953e01\">\n",
              "  <button class=\"colab-df-quickchart\" onclick=\"quickchart('df-fc2f0d8f-1ad7-4a47-973c-cfade7953e01')\"\n",
              "            title=\"Suggest charts\"\n",
              "            style=\"display:none;\">\n",
              "\n",
              "<svg xmlns=\"http://www.w3.org/2000/svg\" height=\"24px\"viewBox=\"0 0 24 24\"\n",
              "     width=\"24px\">\n",
              "    <g>\n",
              "        <path d=\"M19 3H5c-1.1 0-2 .9-2 2v14c0 1.1.9 2 2 2h14c1.1 0 2-.9 2-2V5c0-1.1-.9-2-2-2zM9 17H7v-7h2v7zm4 0h-2V7h2v10zm4 0h-2v-4h2v4z\"/>\n",
              "    </g>\n",
              "</svg>\n",
              "  </button>\n",
              "\n",
              "<style>\n",
              "  .colab-df-quickchart {\n",
              "      --bg-color: #E8F0FE;\n",
              "      --fill-color: #1967D2;\n",
              "      --hover-bg-color: #E2EBFA;\n",
              "      --hover-fill-color: #174EA6;\n",
              "      --disabled-fill-color: #AAA;\n",
              "      --disabled-bg-color: #DDD;\n",
              "  }\n",
              "\n",
              "  [theme=dark] .colab-df-quickchart {\n",
              "      --bg-color: #3B4455;\n",
              "      --fill-color: #D2E3FC;\n",
              "      --hover-bg-color: #434B5C;\n",
              "      --hover-fill-color: #FFFFFF;\n",
              "      --disabled-bg-color: #3B4455;\n",
              "      --disabled-fill-color: #666;\n",
              "  }\n",
              "\n",
              "  .colab-df-quickchart {\n",
              "    background-color: var(--bg-color);\n",
              "    border: none;\n",
              "    border-radius: 50%;\n",
              "    cursor: pointer;\n",
              "    display: none;\n",
              "    fill: var(--fill-color);\n",
              "    height: 32px;\n",
              "    padding: 0;\n",
              "    width: 32px;\n",
              "  }\n",
              "\n",
              "  .colab-df-quickchart:hover {\n",
              "    background-color: var(--hover-bg-color);\n",
              "    box-shadow: 0 1px 2px rgba(60, 64, 67, 0.3), 0 1px 3px 1px rgba(60, 64, 67, 0.15);\n",
              "    fill: var(--button-hover-fill-color);\n",
              "  }\n",
              "\n",
              "  .colab-df-quickchart-complete:disabled,\n",
              "  .colab-df-quickchart-complete:disabled:hover {\n",
              "    background-color: var(--disabled-bg-color);\n",
              "    fill: var(--disabled-fill-color);\n",
              "    box-shadow: none;\n",
              "  }\n",
              "\n",
              "  .colab-df-spinner {\n",
              "    border: 2px solid var(--fill-color);\n",
              "    border-color: transparent;\n",
              "    border-bottom-color: var(--fill-color);\n",
              "    animation:\n",
              "      spin 1s steps(1) infinite;\n",
              "  }\n",
              "\n",
              "  @keyframes spin {\n",
              "    0% {\n",
              "      border-color: transparent;\n",
              "      border-bottom-color: var(--fill-color);\n",
              "      border-left-color: var(--fill-color);\n",
              "    }\n",
              "    20% {\n",
              "      border-color: transparent;\n",
              "      border-left-color: var(--fill-color);\n",
              "      border-top-color: var(--fill-color);\n",
              "    }\n",
              "    30% {\n",
              "      border-color: transparent;\n",
              "      border-left-color: var(--fill-color);\n",
              "      border-top-color: var(--fill-color);\n",
              "      border-right-color: var(--fill-color);\n",
              "    }\n",
              "    40% {\n",
              "      border-color: transparent;\n",
              "      border-right-color: var(--fill-color);\n",
              "      border-top-color: var(--fill-color);\n",
              "    }\n",
              "    60% {\n",
              "      border-color: transparent;\n",
              "      border-right-color: var(--fill-color);\n",
              "    }\n",
              "    80% {\n",
              "      border-color: transparent;\n",
              "      border-right-color: var(--fill-color);\n",
              "      border-bottom-color: var(--fill-color);\n",
              "    }\n",
              "    90% {\n",
              "      border-color: transparent;\n",
              "      border-bottom-color: var(--fill-color);\n",
              "    }\n",
              "  }\n",
              "</style>\n",
              "\n",
              "  <script>\n",
              "    async function quickchart(key) {\n",
              "      const quickchartButtonEl =\n",
              "        document.querySelector('#' + key + ' button');\n",
              "      quickchartButtonEl.disabled = true;  // To prevent multiple clicks.\n",
              "      quickchartButtonEl.classList.add('colab-df-spinner');\n",
              "      try {\n",
              "        const charts = await google.colab.kernel.invokeFunction(\n",
              "            'suggestCharts', [key], {});\n",
              "      } catch (error) {\n",
              "        console.error('Error during call to suggestCharts:', error);\n",
              "      }\n",
              "      quickchartButtonEl.classList.remove('colab-df-spinner');\n",
              "      quickchartButtonEl.classList.add('colab-df-quickchart-complete');\n",
              "    }\n",
              "    (() => {\n",
              "      let quickchartButtonEl =\n",
              "        document.querySelector('#df-fc2f0d8f-1ad7-4a47-973c-cfade7953e01 button');\n",
              "      quickchartButtonEl.style.display =\n",
              "        google.colab.kernel.accessAllowed ? 'block' : 'none';\n",
              "    })();\n",
              "  </script>\n",
              "</div>\n",
              "\n",
              "    </div>\n",
              "  </div>\n"
            ],
            "application/vnd.google.colaboratory.intrinsic+json": {
              "type": "dataframe",
              "variable_name": "data"
            }
          },
          "metadata": {},
          "execution_count": 10
        }
      ],
      "source": [
        "data.head()"
      ]
    },
    {
      "cell_type": "code",
      "execution_count": 11,
      "id": "c3e05af0-01bf-4166-829c-c96b4c4fcc32",
      "metadata": {
        "colab": {
          "base_uri": "https://localhost:8080/"
        },
        "id": "c3e05af0-01bf-4166-829c-c96b4c4fcc32",
        "outputId": "0b53c813-4d52-4834-d89b-c1d2e6dbdb2b"
      },
      "outputs": [
        {
          "output_type": "execute_result",
          "data": {
            "text/plain": [
              "Index(['polarity of tweet ', 'date of the tweet', 'query', 'user',\n",
              "       'text of the tweet '],\n",
              "      dtype='object')"
            ]
          },
          "metadata": {},
          "execution_count": 11
        }
      ],
      "source": [
        "data.columns"
      ]
    },
    {
      "cell_type": "code",
      "execution_count": 4,
      "id": "2163054e-1be1-4aa6-bcce-e989755f83da",
      "metadata": {
        "id": "2163054e-1be1-4aa6-bcce-e989755f83da"
      },
      "outputs": [],
      "source": [
        "# we can see extra space in column name so we need to remove it\n",
        "data=data.rename(columns=lambda x:x.strip())"
      ]
    },
    {
      "cell_type": "code",
      "execution_count": 13,
      "id": "161d1c2e-25ad-444d-a879-f7c751694710",
      "metadata": {
        "colab": {
          "base_uri": "https://localhost:8080/"
        },
        "id": "161d1c2e-25ad-444d-a879-f7c751694710",
        "outputId": "eef79464-bc46-4424-875b-f78f4d942a6f"
      },
      "outputs": [
        {
          "output_type": "execute_result",
          "data": {
            "text/plain": [
              "Index(['polarity of tweet', 'date of the tweet', 'query', 'user',\n",
              "       'text of the tweet'],\n",
              "      dtype='object')"
            ]
          },
          "metadata": {},
          "execution_count": 13
        }
      ],
      "source": [
        "data.columns"
      ]
    },
    {
      "cell_type": "code",
      "execution_count": 14,
      "id": "5f1975f8-53e9-4ec8-b61e-76f90b2f35f4",
      "metadata": {
        "colab": {
          "base_uri": "https://localhost:8080/",
          "height": 523
        },
        "id": "5f1975f8-53e9-4ec8-b61e-76f90b2f35f4",
        "outputId": "b49008a4-7997-4528-dcf0-95306fa77538"
      },
      "outputs": [
        {
          "output_type": "execute_result",
          "data": {
            "text/plain": [
              "<seaborn.axisgrid.FacetGrid at 0x7942e13b8e10>"
            ]
          },
          "metadata": {},
          "execution_count": 14
        },
        {
          "output_type": "display_data",
          "data": {
            "text/plain": [
              "<Figure size 500x500 with 1 Axes>"
            ],
            "image/png": "[encoded data removed]"
          },
          "metadata": {}
        }
      ],
      "source": [
        "sns.displot(data,x='polarity of tweet')"
      ]
    },
    {
      "cell_type": "code",
      "execution_count": 15,
      "id": "f5396fa2-b0a0-4e65-8227-e134b1179716",
      "metadata": {
        "colab": {
          "base_uri": "https://localhost:8080/",
          "height": 81
        },
        "id": "f5396fa2-b0a0-4e65-8227-e134b1179716",
        "outputId": "0d385e20-1482-42d3-dade-c03567b807ef"
      },
      "outputs": [
        {
          "output_type": "execute_result",
          "data": {
            "text/plain": [
              "Empty DataFrame\n",
              "Columns: [polarity of tweet, date of the tweet, query, user, text of the tweet]\n",
              "Index: []"
            ],
            "text/html": [
              "\n",
              "  <div id=\"df-32ba278b-90a0-4508-9def-d8549b813f05\" class=\"colab-df-container\">\n",
              "    <div>\n",
              "<style scoped>\n",
              "    .dataframe tbody tr th:only-of-type {\n",
              "        vertical-align: middle;\n",
              "    }\n",
              "\n",
              "    .dataframe tbody tr th {\n",
              "        vertical-align: top;\n",
              "    }\n",
              "\n",
              "    .dataframe thead th {\n",
              "        text-align: right;\n",
              "    }\n",
              "</style>\n",
              "<table border=\"1\" class=\"dataframe\">\n",
              "  <thead>\n",
              "    <tr style=\"text-align: right;\">\n",
              "      <th></th>\n",
              "      <th>polarity of tweet</th>\n",
              "      <th>date of the tweet</th>\n",
              "      <th>query</th>\n",
              "      <th>user</th>\n",
              "      <th>text of the tweet</th>\n",
              "    </tr>\n",
              "    <tr>\n",
              "      <th>id of the tweet</th>\n",
              "      <th></th>\n",
              "      <th></th>\n",
              "      <th></th>\n",
              "      <th></th>\n",
              "      <th></th>\n",
              "    </tr>\n",
              "  </thead>\n",
              "  <tbody>\n",
              "  </tbody>\n",
              "</table>\n",
              "</div>\n",
              "    <div class=\"colab-df-buttons\">\n",
              "\n",
              "  <div class=\"colab-df-container\">\n",
              "    <button class=\"colab-df-convert\" onclick=\"convertToInteractive('df-32ba278b-90a0-4508-9def-d8549b813f05')\"\n",
              "            title=\"Convert this dataframe to an interactive table.\"\n",
              "            style=\"display:none;\">\n",
              "\n",
              "  <svg xmlns=\"http://www.w3.org/2000/svg\" height=\"24px\" viewBox=\"0 -960 960 960\">\n",
              "    <path d=\"M120-120v-720h720v720H120Zm60-500h600v-160H180v160Zm220 220h160v-160H400v160Zm0 220h160v-160H400v160ZM180-400h160v-160H180v160Zm440 0h160v-160H620v160ZM180-180h160v-160H180v160Zm440 0h160v-160H620v160Z\"/>\n",
              "  </svg>\n",
              "    </button>\n",
              "\n",
              "  <style>\n",
              "    .colab-df-container {\n",
              "      display:flex;\n",
              "      gap: 12px;\n",
              "    }\n",
              "\n",
              "    .colab-df-convert {\n",
              "      background-color: #E8F0FE;\n",
              "      border: none;\n",
              "      border-radius: 50%;\n",
              "      cursor: pointer;\n",
              "      display: none;\n",
              "      fill: #1967D2;\n",
              "      height: 32px;\n",
              "      padding: 0 0 0 0;\n",
              "      width: 32px;\n",
              "    }\n",
              "\n",
              "    .colab-df-convert:hover {\n",
              "      background-color: #E2EBFA;\n",
              "      box-shadow: 0px 1px 2px rgba(60, 64, 67, 0.3), 0px 1px 3px 1px rgba(60, 64, 67, 0.15);\n",
              "      fill: #174EA6;\n",
              "    }\n",
              "\n",
              "    .colab-df-buttons div {\n",
              "      margin-bottom: 4px;\n",
              "    }\n",
              "\n",
              "    [theme=dark] .colab-df-convert {\n",
              "      background-color: #3B4455;\n",
              "      fill: #D2E3FC;\n",
              "    }\n",
              "\n",
              "    [theme=dark] .colab-df-convert:hover {\n",
              "      background-color: #434B5C;\n",
              "      box-shadow: 0px 1px 3px 1px rgba(0, 0, 0, 0.15);\n",
              "      filter: drop-shadow(0px 1px 2px rgba(0, 0, 0, 0.3));\n",
              "      fill: #FFFFFF;\n",
              "    }\n",
              "  </style>\n",
              "\n",
              "    <script>\n",
              "      const buttonEl =\n",
              "        document.querySelector('#df-32ba278b-90a0-4508-9def-d8549b813f05 button.colab-df-convert');\n",
              "      buttonEl.style.display =\n",
              "        google.colab.kernel.accessAllowed ? 'block' : 'none';\n",
              "\n",
              "      async function convertToInteractive(key) {\n",
              "        const element = document.querySelector('#df-32ba278b-90a0-4508-9def-d8549b813f05');\n",
              "        const dataTable =\n",
              "          await google.colab.kernel.invokeFunction('convertToInteractive',\n",
              "                                                    [key], {});\n",
              "        if (!dataTable) return;\n",
              "\n",
              "        const docLinkHtml = 'Like what you see? Visit the ' +\n",
              "          '<a target=\"_blank\" href=https://colab.research.google.com/notebooks/data_table.ipynb>data table notebook</a>'\n",
              "          + ' to learn more about interactive tables.';\n",
              "        element.innerHTML = '';\n",
              "        dataTable['output_type'] = 'display_data';\n",
              "        await google.colab.output.renderOutput(dataTable, element);\n",
              "        const docLink = document.createElement('div');\n",
              "        docLink.innerHTML = docLinkHtml;\n",
              "        element.appendChild(docLink);\n",
              "      }\n",
              "    </script>\n",
              "  </div>\n",
              "\n",
              "\n",
              "    </div>\n",
              "  </div>\n"
            ],
            "application/vnd.google.colaboratory.intrinsic+json": {
              "type": "dataframe",
              "repr_error": "Out of range float values are not JSON compliant: nan"
            }
          },
          "metadata": {},
          "execution_count": 15
        }
      ],
      "source": [
        "data[data['polarity of tweet']==2]"
      ]
    },
    {
      "cell_type": "markdown",
      "id": "9111b790-6763-4493-a585-ec06fbff4c33",
      "metadata": {
        "id": "9111b790-6763-4493-a585-ec06fbff4c33"
      },
      "source": [
        "__IT means no neutral sentiment here__"
      ]
    },
    {
      "cell_type": "markdown",
      "id": "9e0cf441-f630-478d-9357-27e5c834e39c",
      "metadata": {
        "id": "9e0cf441-f630-478d-9357-27e5c834e39c"
      },
      "source": [
        "# Step 2 :- Text Preprocessing"
      ]
    },
    {
      "cell_type": "markdown",
      "id": "a902fa69-f932-485c-a4dd-11505d7e9534",
      "metadata": {
        "id": "a902fa69-f932-485c-a4dd-11505d7e9534"
      },
      "source": [
        "__Lower casing , tokenization , removal of special char. and puntuation , removal of stopwords and lemmatization.__\n",
        "by using Spacy."
      ]
    },
    {
      "cell_type": "code",
      "execution_count": 5,
      "id": "a70a1923-8b30-4116-9279-7992e38c54c8",
      "metadata": {
        "id": "a70a1923-8b30-4116-9279-7992e38c54c8"
      },
      "outputs": [],
      "source": [
        "nlp=spacy.load('en_core_web_sm')"
      ]
    },
    {
      "cell_type": "code",
      "execution_count": 6,
      "id": "2ffd6412-4e78-4e90-82ba-2ad70cb465de",
      "metadata": {
        "id": "2ffd6412-4e78-4e90-82ba-2ad70cb465de"
      },
      "outputs": [],
      "source": [
        "def text_preprocessing(texts):\n",
        "    processed_texts=[]\n",
        "    for doc in nlp.pipe(texts,n_process=-1):\n",
        "        tokenzied=[token.lemma_.lower() for token in doc if token.is_alpha and token.lemma_ not in nlp.Defaults.stop_words]\n",
        "        processed_text=\" \".join(tokenzied)\n",
        "        processed_texts.append(processed_text)\n",
        "    return processed_texts"
      ]
    },
    {
      "cell_type": "code",
      "execution_count": 7,
      "id": "8e1bcc4f-579e-41d8-bbe6-09b93def4d34",
      "metadata": {
        "id": "8e1bcc4f-579e-41d8-bbe6-09b93def4d34"
      },
      "outputs": [],
      "source": [
        "data['text of the tweet']=text_preprocessing(data['text of the tweet'])"
      ]
    },
    {
      "cell_type": "code",
      "execution_count": 8,
      "id": "2266ebe2-e975-43b0-9ba8-220e0a9edc71",
      "metadata": {
        "colab": {
          "base_uri": "https://localhost:8080/",
          "height": 490
        },
        "id": "2266ebe2-e975-43b0-9ba8-220e0a9edc71",
        "outputId": "70f234a5-e47e-4873-a6ca-b8861db01e14"
      },
      "outputs": [
        {
          "output_type": "execute_result",
          "data": {
            "text/plain": [
              "id of the tweet\n",
              "1467810672    upset update facebook texte cry result school ...\n",
              "1467810917              i dive time ball manage save rest bound\n",
              "1467811184                            body feel itchy like fire\n",
              "1467811193                                     behave i mad i i\n",
              "1467811372                                                 crew\n",
              "                                    ...                        \n",
              "1960186342                                   grandma dinenr mum\n",
              "1960186409        mid morning snack time bowl cheese noodle yum\n",
              "1960186429                like terminiator movie come like word\n",
              "1960186445                               i m great thaanks wbuu\n",
              "1960186607                                wait til date weekend\n",
              "Name: text of the tweet, Length: 1048572, dtype: object"
            ],
            "text/html": [
              "<div>\n",
              "<style scoped>\n",
              "    .dataframe tbody tr th:only-of-type {\n",
              "        vertical-align: middle;\n",
              "    }\n",
              "\n",
              "    .dataframe tbody tr th {\n",
              "        vertical-align: top;\n",
              "    }\n",
              "\n",
              "    .dataframe thead th {\n",
              "        text-align: right;\n",
              "    }\n",
              "</style>\n",
              "<table border=\"1\" class=\"dataframe\">\n",
              "  <thead>\n",
              "    <tr style=\"text-align: right;\">\n",
              "      <th></th>\n",
              "      <th>text of the tweet</th>\n",
              "    </tr>\n",
              "    <tr>\n",
              "      <th>id of the tweet</th>\n",
              "      <th></th>\n",
              "    </tr>\n",
              "  </thead>\n",
              "  <tbody>\n",
              "    <tr>\n",
              "      <th>1467810672</th>\n",
              "      <td>upset update facebook texte cry result school ...</td>\n",
              "    </tr>\n",
              "    <tr>\n",
              "      <th>1467810917</th>\n",
              "      <td>i dive time ball manage save rest bound</td>\n",
              "    </tr>\n",
              "    <tr>\n",
              "      <th>1467811184</th>\n",
              "      <td>body feel itchy like fire</td>\n",
              "    </tr>\n",
              "    <tr>\n",
              "      <th>1467811193</th>\n",
              "      <td>behave i mad i i</td>\n",
              "    </tr>\n",
              "    <tr>\n",
              "      <th>1467811372</th>\n",
              "      <td>crew</td>\n",
              "    </tr>\n",
              "    <tr>\n",
              "      <th>...</th>\n",
              "      <td>...</td>\n",
              "    </tr>\n",
              "    <tr>\n",
              "      <th>1960186342</th>\n",
              "      <td>grandma dinenr mum</td>\n",
              "    </tr>\n",
              "    <tr>\n",
              "      <th>1960186409</th>\n",
              "      <td>mid morning snack time bowl cheese noodle yum</td>\n",
              "    </tr>\n",
              "    <tr>\n",
              "      <th>1960186429</th>\n",
              "      <td>like terminiator movie come like word</td>\n",
              "    </tr>\n",
              "    <tr>\n",
              "      <th>1960186445</th>\n",
              "      <td>i m great thaanks wbuu</td>\n",
              "    </tr>\n",
              "    <tr>\n",
              "      <th>1960186607</th>\n",
              "      <td>wait til date weekend</td>\n",
              "    </tr>\n",
              "  </tbody>\n",
              "</table>\n",
              "<p>1048572 rows × 1 columns</p>\n",
              "</div><br><label><b>dtype:</b> object</label>"
            ]
          },
          "metadata": {},
          "execution_count": 8
        }
      ],
      "source": [
        "data['text of the tweet']"
      ]
    },
    {
      "cell_type": "markdown",
      "source": [
        "#  Step 3: Convert Text to TF-IDF Vectors"
      ],
      "metadata": {
        "id": "RoWstjV9K4OD"
      },
      "id": "RoWstjV9K4OD"
    },
    {
      "cell_type": "code",
      "execution_count": 9,
      "id": "94295012-6428-4ee9-987f-f5db983af437",
      "metadata": {
        "colab": {
          "base_uri": "https://localhost:8080/"
        },
        "id": "94295012-6428-4ee9-987f-f5db983af437",
        "outputId": "2c1d0848-b5e1-42e5-b16d-868d00289244"
      },
      "outputs": [
        {
          "output_type": "stream",
          "name": "stdout",
          "text": [
            "Shape of TF-IDF Matrix: (1048572, 5000)\n"
          ]
        }
      ],
      "source": [
        "from sklearn.feature_extraction.text import TfidfVectorizer\n",
        "\n",
        "tfidf_vectorizer = TfidfVectorizer(max_features=5000)  # Limit to 5000 most important words\n",
        "\n",
        "X = tfidf_vectorizer.fit_transform(data['text of the tweet'])  # Transform text into vectors\n",
        "y = data['polarity of tweet']  # Labels (sentiments)\n",
        "\n",
        "print(\"Shape of TF-IDF Matrix:\", X.shape)\n"
      ]
    },
    {
      "cell_type": "markdown",
      "source": [
        "# Step 4: Train-Test Split"
      ],
      "metadata": {
        "id": "vmzY3JSfLG1c"
      },
      "id": "vmzY3JSfLG1c"
    },
    {
      "cell_type": "code",
      "source": [
        "from sklearn.model_selection import train_test_split\n",
        "\n",
        "X_train, X_test, y_train, y_test = train_test_split(X, y, test_size=0.2, random_state=42, stratify=y)\n",
        "\n",
        "print(\"Training Set:\", X_train.shape, \"Testing Set:\", X_test.shape)\n"
      ],
      "metadata": {
        "colab": {
          "base_uri": "https://localhost:8080/"
        },
        "id": "JpkqmLMtK8rm",
        "outputId": "674bc70b-2d72-4546-e449-779eb6f268a2"
      },
      "id": "JpkqmLMtK8rm",
      "execution_count": 10,
      "outputs": [
        {
          "output_type": "stream",
          "name": "stdout",
          "text": [
            "Training Set: (838857, 5000) Testing Set: (209715, 5000)\n"
          ]
        }
      ]
    },
    {
      "cell_type": "markdown",
      "source": [
        "# Step 5: Train a Machine Learning Model"
      ],
      "metadata": {
        "id": "yi_So7naLWZu"
      },
      "id": "yi_So7naLWZu"
    },
    {
      "cell_type": "code",
      "source": [
        "from sklearn.naive_bayes import MultinomialNB\n",
        "\n",
        "model = MultinomialNB()  # Naïve Bayes Model\n",
        "model.fit(X_train, y_train)\n",
        "\n",
        "print(\"✅ Model Training Complete!\")\n"
      ],
      "metadata": {
        "colab": {
          "base_uri": "https://localhost:8080/"
        },
        "id": "LWSzc7O2LUia",
        "outputId": "9893c3fd-f38e-42a6-be2f-16f91b518a56"
      },
      "id": "LWSzc7O2LUia",
      "execution_count": 12,
      "outputs": [
        {
          "output_type": "stream",
          "name": "stdout",
          "text": [
            "✅ Model Training Complete!\n"
          ]
        }
      ]
    },
    {
      "cell_type": "markdown",
      "source": [
        "# Step 6: Evaluate the Model"
      ],
      "metadata": {
        "id": "cQKkKLLsLgt-"
      },
      "id": "cQKkKLLsLgt-"
    },
    {
      "cell_type": "code",
      "source": [
        "from sklearn.metrics import accuracy_score, classification_report\n",
        "\n",
        "y_pred = model.predict(X_test)\n",
        "\n",
        "accuracy = accuracy_score(y_test, y_pred)\n",
        "print(\"📊 Model Accuracy:\", accuracy)\n",
        "print(\"\\n📑 Classification Report:\\n\", classification_report(y_test, y_pred))\n"
      ],
      "metadata": {
        "colab": {
          "base_uri": "https://localhost:8080/"
        },
        "id": "0O0fLg65LbGW",
        "outputId": "da0ae11a-ab03-492b-bf18-e99fd6dfc277"
      },
      "id": "0O0fLg65LbGW",
      "execution_count": 14,
      "outputs": [
        {
          "output_type": "stream",
          "name": "stdout",
          "text": [
            "📊 Model Accuracy: 0.8012254726652839\n",
            "\n",
            "📑 Classification Report:\n",
            "               precision    recall  f1-score   support\n",
            "\n",
            "           0       0.80      0.99      0.88    160000\n",
            "           4       0.82      0.21      0.33     49715\n",
            "\n",
            "    accuracy                           0.80    209715\n",
            "   macro avg       0.81      0.60      0.61    209715\n",
            "weighted avg       0.80      0.80      0.75    209715\n",
            "\n"
          ]
        }
      ]
    },
    {
      "cell_type": "markdown",
      "source": [
        "# Step 7: Visualize Results"
      ],
      "metadata": {
        "id": "D7AOIO9ALo9u"
      },
      "id": "D7AOIO9ALo9u"
    },
    {
      "cell_type": "code",
      "source": [
        "from sklearn.metrics import confusion_matrix\n",
        "\n",
        "\n",
        "cm = confusion_matrix(y_test, y_pred)\n",
        "sns.heatmap(cm, annot=True, fmt=\"d\", cmap=\"Blues\", xticklabels=['Negative', 'Neutral', 'Positive'], yticklabels=['Negative', 'Neutral', 'Positive'])\n",
        "plt.xlabel(\"Predicted\")\n",
        "plt.ylabel(\"Actual\")\n",
        "plt.title(\"Confusion Matrix\")\n",
        "plt.show()\n"
      ],
      "metadata": {
        "colab": {
          "base_uri": "https://localhost:8080/",
          "height": 472
        },
        "id": "Sd59_ITaLfxD",
        "outputId": "cc874d1d-9729-4816-c463-af84b21459b6"
      },
      "id": "Sd59_ITaLfxD",
      "execution_count": 15,
      "outputs": [
        {
          "output_type": "display_data",
          "data": {
            "text/plain": [
              "<Figure size 640x480 with 2 Axes>"
            ],
            "image/png": "[encoded data removed]"
          },
          "metadata": {}
        }
      ]
    }
  ],
  "metadata": {
    "kernelspec": {
      "display_name": "Python 3.10",
      "language": "python",
      "name": "python3.10"
    },
    "language_info": {
      "codemirror_mode": {
        "name": "ipython",
        "version": 3
      },
      "file_extension": ".py",
      "mimetype": "text/x-python",
      "name": "python",
      "nbconvert_exporter": "python",
      "pygments_lexer": "ipython3",
      "version": "3.10.0"
    },
    "colab": {
      "provenance": []
    }
  },
  "nbformat": 4,
  "nbformat_minor": 5
}